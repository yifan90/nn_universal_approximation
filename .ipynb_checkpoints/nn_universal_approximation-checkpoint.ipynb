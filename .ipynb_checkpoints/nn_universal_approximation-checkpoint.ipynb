{
 "cells": [
  {
   "cell_type": "markdown",
   "metadata": {},
   "source": [
    "This is my pytorch hello world. \n",
    "\n",
    "In addition to get familiar with the basic usage, I also want to demonstrate the universal approximation property of neural nets, which I believe is one of the core reason why deep learing is working so well.\n",
    "\n",
    "Consider the characteristic function for two interected circles on the 2-d plane (then the problem naturally becomes a classification problem), we will see that a nn with 2 hidden layer can aprroximate it pretty well. \n",
    "\n",
    "We remark here that actually only one layer is good enough since we know that even the one layer nn also has the universal approximation property."
   ]
  },
  {
   "cell_type": "code",
   "execution_count": 36,
   "metadata": {},
   "outputs": [],
   "source": [
    "import numpy\n",
    "import torch\n",
    "import torch.nn as nn\n",
    "import torch.nn.functional as F\n",
    "import torch.optim as optim\n",
    "import matplotlib.pyplot as plt\n",
    "from torch.autograd import Variable\n",
    "from random import shuffle"
   ]
  },
  {
   "cell_type": "markdown",
   "metadata": {},
   "source": [
    "The objective function below equals one within two intersected circles, first one centered at $(0,0)$ with a radius of $0.6$ and the second one entered at $(0.5,0.5)$ with a radius of $0.5$.\n",
    "\n",
    "Notice that the region is non-convex."
   ]
  },
  {
   "cell_type": "code",
   "execution_count": 37,
   "metadata": {},
   "outputs": [],
   "source": [
    "def target(x,y):\n",
    "    if (x-0.0)*(x-0.0) + (y-0.0)*(y-0.0) < 0.36 or (x-0.5)*(x-0.5) + (y-0.5)*(y-0.5) < 0.25:\n",
    "        return 1.0\n",
    "    else:\n",
    "        return 0.0"
   ]
  },
  {
   "cell_type": "markdown",
   "metadata": {},
   "source": [
    "Define our neural net with 2 hidden layer. It takes a 2-d input and map to the first layer with 40 hidden units, then two the second hidden layer with 40 nodes and finally map to a scalar output.\n",
    "\n",
    "Also define the optimization method (Adam) and the loss function (cross entropy)."
   ]
  },
  {
   "cell_type": "code",
   "execution_count": 38,
   "metadata": {},
   "outputs": [],
   "source": [
    "class Net(nn.Module):\n",
    "\n",
    "    def __init__(self):\n",
    "        super(Net, self).__init__()     \n",
    "        self.fc1 = nn.Linear(2, 40) \n",
    "        self.fc2 = nn.Linear(40, 40)\n",
    "        self.fc3 = nn.Linear(40, 1)\n",
    "        self.out_act = nn.Sigmoid()\n",
    "\n",
    "    def forward(self, x):\n",
    "        x = F.relu(self.fc1(x))\n",
    "        x = F.relu(self.fc2(x))\n",
    "        x = self.fc3(x)\n",
    "        x = self.out_act(x)\n",
    "        return x\n",
    "\n",
    "net = Net()\n",
    "opt = optim.Adam(net.parameters(), lr=0.001, betas=(0.9, 0.999))\n",
    "lose_func = nn.BCELoss()"
   ]
  },
  {
   "cell_type": "markdown",
   "metadata": {},
   "source": [
    "We sample data uniformly from a square $[-1.5,1.5]\\times [-1.5,1.5]$, label them and do a shuffle.\n",
    "\n",
    "One interesting here is that if you don't shuffle the input, the performance is prerry bad."
   ]
  },
  {
   "cell_type": "code",
   "execution_count": 43,
   "metadata": {},
   "outputs": [],
   "source": [
    "x = []\n",
    "y = []\n",
    "for i in numpy.linspace(-1.5,1.5,num = 200):\n",
    "    for j in numpy.linspace(-1.5,1.5,num = 200):\n",
    "        x = x + [[i,j]]\n",
    "\n",
    "# try to comment out this and see what happens\n",
    "shuffle(x)\n",
    "\n",
    "for i in x:\n",
    "    y = y + [[target(i[0],i[1])]]"
   ]
  },
  {
   "cell_type": "markdown",
   "metadata": {},
   "source": [
    "A function used to visualize the data, x is a list of 2-d points and y is the list of label associated with x."
   ]
  },
  {
   "cell_type": "code",
   "execution_count": 44,
   "metadata": {},
   "outputs": [],
   "source": [
    "def draw(x,y, threshold = 1.0):\n",
    "    blue_x = []\n",
    "    blue_y = []\n",
    "    red_x = []\n",
    "    red_y = []\n",
    "    for i in range(len(x)):\n",
    "        if y[i][0] >= threshold:\n",
    "            blue_x = blue_x + [x[i][0]]\n",
    "            blue_y = blue_y + [x[i][1]]\n",
    "        else:\n",
    "            red_x = red_x + [x[i][0]]\n",
    "            red_y = red_y + [x[i][1]]\n",
    "      \n",
    "    [fig, ax] = plt.subplots()\n",
    "    plt.scatter(blue_x, blue_y, color='b')\n",
    "    plt.scatter(red_x, red_y, color='r')"
   ]
  },
  {
   "cell_type": "markdown",
   "metadata": {},
   "source": [
    "This is the original input data, equals 1 inside the two circles and 0 otherwise."
   ]
  },
  {
   "cell_type": "code",
   "execution_count": 45,
   "metadata": {},
   "outputs": [
    {
     "data": {
      "image/png": "[encoded data removed]",
      "text/plain": [
       "<Figure size 432x288 with 1 Axes>"
      ]
     },
     "metadata": {
      "needs_background": "light"
     },
     "output_type": "display_data"
    }
   ],
   "source": [
    "draw(x,y)"
   ]
  },
  {
   "cell_type": "markdown",
   "metadata": {},
   "source": [
    "Now we start to train the model"
   ]
  },
  {
   "cell_type": "code",
   "execution_count": 46,
   "metadata": {},
   "outputs": [],
   "source": [
    "x = torch.tensor(x)\n",
    "y = torch.tensor(y)"
   ]
  },
  {
   "cell_type": "code",
   "execution_count": 47,
   "metadata": {},
   "outputs": [],
   "source": [
    "def train_epoch(model, opt, criterion, batch_size=50):\n",
    "    losses = []\n",
    "    for beg_i in range(0, x.size(0), batch_size):\n",
    "        x_batch = x[beg_i:beg_i + batch_size, :]\n",
    "        y_batch = y[beg_i:beg_i + batch_size, :]\n",
    "        \n",
    "        opt.zero_grad()\n",
    "        y_hat = net(x_batch)\n",
    "        loss = criterion(y_hat, y_batch)\n",
    "        loss.backward()\n",
    "        opt.step()        \n",
    "        losses.append(loss.data.numpy())\n",
    "    return losses"
   ]
  },
  {
   "cell_type": "code",
   "execution_count": 48,
   "metadata": {},
   "outputs": [],
   "source": [
    "e_losses = []\n",
    "num_epochs = 100\n",
    "for e in range(num_epochs):\n",
    "    train_epoch(net, opt, lose_func)"
   ]
  },
  {
   "cell_type": "markdown",
   "metadata": {},
   "source": [
    "This is the final result. I was pretty astonished when I saw the result for the first time. Before that, I didn't really believe in deep learning since it was really a black box to me. The result here changed my mind."
   ]
  },
  {
   "cell_type": "code",
   "execution_count": 49,
   "metadata": {},
   "outputs": [
    {
     "data": {
      "image/png": "[encoded data removed]",
      "text/plain": [
       "<Figure size 432x288 with 1 Axes>"
      ]
     },
     "metadata": {
      "needs_background": "light"
     },
     "output_type": "display_data"
    }
   ],
   "source": [
    "draw(x.tolist(), net(x).tolist(), threshold = 0.5)"
   ]
  },
  {
   "cell_type": "markdown",
   "metadata": {},
   "source": [
    "The decision boundary given by this nn should be linear, basically some polygon, which can be easily seen if we decrease the number of hidden units. So what we are doing here is basically try to approximate any region (don't need to be convex) using polygon and we know it is feasible from real analysis.\n",
    "\n",
    "Then some question to ask here are: \n",
    "    1. Given any polygon $P$, can we find a nn whose decision boundary is exactly $P$, if so, how to construct it.\n",
    "    2. Given a network structure, give an upper bound of the number of edges of its decision boundary."
   ]
  }
 ],
 "metadata": {
  "kernelspec": {
   "display_name": "Python 3",
   "language": "python",
   "name": "python3"
  },
  "language_info": {
   "codemirror_mode": {
    "name": "ipython",
    "version": 3
   },
   "file_extension": ".py",
   "mimetype": "text/x-python",
   "name": "python",
   "nbconvert_exporter": "python",
   "pygments_lexer": "ipython3",
   "version": "3.7.6"
  }
 },
 "nbformat": 4,
 "nbformat_minor": 4
}
